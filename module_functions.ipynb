{
 "cells": [
  {
   "cell_type": "markdown",
   "metadata": {},
   "source": [
    "This is the module file, which considered to be the most important one and it contains all the major functions, "
   ]
  },
  {
   "cell_type": "markdown",
   "metadata": {},
   "source": [
    "### Setup"
   ]
  },
  {
   "cell_type": "code",
   "execution_count": 25,
   "metadata": {},
   "outputs": [],
   "source": [
    "import mysql.connector\n",
    "from mysql.connector import Error\n",
    "\n",
    "user='root'\n",
    "pw='root'\n",
    "db='mysql$python'"
   ]
  },
  {
   "cell_type": "markdown",
   "metadata": {},
   "source": [
    "### Creating Connection to Server"
   ]
  },
  {
   "cell_type": "code",
   "execution_count": 26,
   "metadata": {},
   "outputs": [],
   "source": [
    "# creating server connection\n",
    "def create_server_connection(host_name,user_name,user_password):\n",
    "    connection = None\n",
    "    \n",
    "    try:\n",
    "        connection = mysql.connector.connect(      #sets up a session with mysql server.\n",
    "                        host= host_name,\n",
    "                        user = user_name,\n",
    "                        password = user_password\n",
    "        )        \n",
    "        print('MySQL Database Connection Successful')\n",
    "        \n",
    "    except Error as err:\n",
    "        print(f\"Error: '{err}'\")\n",
    "        \n",
    "    return connection"
   ]
  },
  {
   "cell_type": "markdown",
   "metadata": {},
   "source": [
    "### Creating Databse"
   ]
  },
  {
   "cell_type": "code",
   "execution_count": 27,
   "metadata": {},
   "outputs": [],
   "source": [
    "#Creating Database\n",
    "\n",
    "# writing the function to drop the database\n",
    "def drop_table(connection, query):\n",
    "    cursor = connection.cursor()\n",
    "    cursor.execute(query)\n",
    "    \n",
    "\n",
    "# writing the function to create the database\n",
    "def create_database(connection, query):\n",
    "    cursor = connection.cursor()    \n",
    "    \n",
    " #mysql cursor of mysql connector python is used to execute the statements to communicate with mysql database\n",
    "#mysql cursor class initiates the objects that can execute the operations such as queries \n",
    "    try:\n",
    "        cursor.execute(query)\n",
    "        print(\"Database created successfully\")\n",
    "    except Error as err:\n",
    "        print(f\"Error: '{err}'\")"
   ]
  },
  {
   "cell_type": "markdown",
   "metadata": {},
   "source": [
    "### Connecting the Above created database"
   ]
  },
  {
   "cell_type": "code",
   "execution_count": 28,
   "metadata": {},
   "outputs": [],
   "source": [
    "# Connection to database\n",
    "def db_connection(host_name, user_name, user_password, db_name):\n",
    "    connection = None\n",
    "    try:\n",
    "        connection = mysql.connector.connect(host=host_name, user=user_name, password=user_password, database=db_name)\n",
    "        print(\"MySQL Database Connection Successfull.\")\n",
    "        \n",
    "    except Error as err:\n",
    "        print(f'Error: {err}')\n",
    "        \n",
    "    return connection   "
   ]
  },
  {
   "cell_type": "markdown",
   "metadata": {},
   "source": [
    "### Executing the Query for DDL"
   ]
  },
  {
   "cell_type": "code",
   "execution_count": 29,
   "metadata": {},
   "outputs": [],
   "source": [
    "#Execute query, like commit etc\n",
    "\n",
    "def execute_query(connection,query):\n",
    "    cursor = connection.cursor()\n",
    "    try:\n",
    "        cursor.execute(query)\n",
    "        connection.commit()\n",
    "        print('Query Executed.')\n",
    "        \n",
    "    except Error as err:\n",
    "        print(f'Error: {err}')"
   ]
  },
  {
   "cell_type": "markdown",
   "metadata": {},
   "source": [
    "### Executing Query for DML"
   ]
  },
  {
   "cell_type": "code",
   "execution_count": 30,
   "metadata": {},
   "outputs": [],
   "source": [
    "#Function to execute the query and fetch the data\n",
    "\n",
    "def read_query(connection,query):\n",
    "    cursor=connection.cursor()\n",
    "    result=None\n",
    "    try:\n",
    "        cursor.execute(query)\n",
    "        result = cursor.fetchall()\n",
    "        return result\n",
    "    except Error as err:\n",
    "        print(f'Error: {err}')"
   ]
  },
  {
   "cell_type": "markdown",
   "metadata": {},
   "source": [
    "# Fetchign Data for Creating DataFrame"
   ]
  },
  {
   "cell_type": "markdown",
   "metadata": {},
   "source": [
    "### Data Reading from Database Table"
   ]
  },
  {
   "cell_type": "code",
   "execution_count": 31,
   "metadata": {},
   "outputs": [],
   "source": [
    "#Getting Data from Table\n",
    "\n",
    "def fetch_data():\n",
    "\n",
    "    from_db = []                          #an empty list for data\n",
    "\n",
    "    data_query = \"Select * from orders\"          #query to fetch the data\n",
    "\n",
    "    connection = db_connection('localhost', user,pw,db)     #making connection to the database\n",
    "    table_data = read_query(connection,data_query)          #executing query\n",
    "\n",
    "    for td in table_data:            #for loop to get each row of data separately and then converting to list and storing in list\n",
    "        td = list(td)\n",
    "        from_db.append(td)\n",
    "\n",
    "    return from_db"
   ]
  },
  {
   "cell_type": "markdown",
   "metadata": {},
   "source": [
    "### Fetching Column Names from Table Header"
   ]
  },
  {
   "cell_type": "code",
   "execution_count": 32,
   "metadata": {},
   "outputs": [],
   "source": [
    "#Now getting column names\n",
    "\n",
    "def fetch_col_names():\n",
    "\n",
    "    # 1st way\n",
    "    # columns = [\"order_id\", \"customer_name\", \"product_name\", \"date_ordered\", \"quantity\", \"unit_price\", \"phone_number\"]\n",
    "\n",
    "\n",
    "    # 2nd way\n",
    "    get_col_names = \"\"\" SELECT COLUMN_NAME FROM INFORMATION_SCHEMA.COLUMNS\n",
    "                        WHERE TABLE_NAME = 'orders' and Table_schema = 'mysql$python'\n",
    "                        ORDER BY ORDINAL_POSITION \"\"\"\n",
    "\n",
    "    # ORDER BY ORDINAL_POSITION: keeps the order of the column names which is in db.\n",
    "\n",
    "    connection = db_connection('localhost', user,pw,db)\n",
    "    col_names_db = read_query(connection,get_col_names)\n",
    "    \n",
    "    \n",
    "    col_names = []\n",
    "\n",
    "    for col in col_names_db:\n",
    "        col = col[0]                 #tuple unpacking: as the value is tuple, and it has only 1 element. So, it's easy to unpack and then storing in list\n",
    "        col_names.append(col)\n",
    "\n",
    "    return col_names"
   ]
  }
 ],
 "metadata": {
  "kernelspec": {
   "display_name": "Python 3",
   "language": "python",
   "name": "python3"
  },
  "language_info": {
   "codemirror_mode": {
    "name": "ipython",
    "version": 3
   },
   "file_extension": ".py",
   "mimetype": "text/x-python",
   "name": "python",
   "nbconvert_exporter": "python",
   "pygments_lexer": "ipython3",
   "version": "3.8.5"
  }
 },
 "nbformat": 4,
 "nbformat_minor": 4
}
