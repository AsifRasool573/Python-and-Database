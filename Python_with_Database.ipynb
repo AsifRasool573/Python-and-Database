{
 "cells": [
  {
   "cell_type": "markdown",
   "metadata": {},
   "source": [
    "## Python connection and queries with MySQL\n",
    "\n",
    "This file contains Execution of SQL queries with Python."
   ]
  },
  {
   "cell_type": "code",
   "execution_count": 38,
   "metadata": {},
   "outputs": [],
   "source": [
    "#importing libraries\n",
    "\n",
    "import mysql.connector\n",
    "from mysql.connector import Error\n",
    "import pandas as pd"
   ]
  },
  {
   "cell_type": "code",
   "execution_count": 53,
   "metadata": {},
   "outputs": [],
   "source": [
    "#calling the module file\n",
    "%run ./module_functions.ipynb"
   ]
  },
  {
   "cell_type": "markdown",
   "metadata": {},
   "source": [
    "### Creating the Database"
   ]
  },
  {
   "cell_type": "code",
   "execution_count": 40,
   "metadata": {},
   "outputs": [
    {
     "name": "stdout",
     "output_type": "stream",
     "text": [
      "Database created successfully\n"
     ]
    }
   ],
   "source": [
    "db = \"MySQL$Python\"\n",
    "\n",
    "\n",
    "#writing the query to drop the database\n",
    "q1 = f\"DROP DATABASE IF EXISTS {db}\"\n",
    "#calling the function to drop the database\n",
    "drop_table(connection,q1)\n",
    "\n",
    "\n",
    "#writing the query to create database\n",
    "q2 = f\"CREATE DATABASE {db}\"\n",
    "# # calling the function to create the database\n",
    "create_database(connection, q2)"
   ]
  },
  {
   "cell_type": "markdown",
   "metadata": {},
   "source": [
    "### Creating Table"
   ]
  },
  {
   "cell_type": "code",
   "execution_count": 41,
   "metadata": {},
   "outputs": [
    {
     "name": "stdout",
     "output_type": "stream",
     "text": [
      "MySQL Database Connection Successfull.\n",
      "Query Executed.\n"
     ]
    }
   ],
   "source": [
    "create_order_table = \"\"\"\n",
    "create table orders(\n",
    "order_id int primary key,\n",
    "customer_name varchar(30) not null,\n",
    "product_name varchar(20) not null,\n",
    "date_ordered date,\n",
    "quantity int,\n",
    "unit_price float,\n",
    "phone_number varchar(20));\n",
    "\"\"\"\n",
    "\n",
    "#connect to the database\n",
    "connection = db_connection('localhost', user, pw, db)\n",
    "#executing the query\n",
    "execute_query(connection, create_order_table)"
   ]
  },
  {
   "cell_type": "markdown",
   "metadata": {},
   "source": [
    "### Inserting Data into the Table."
   ]
  },
  {
   "cell_type": "code",
   "execution_count": 42,
   "metadata": {},
   "outputs": [
    {
     "name": "stdout",
     "output_type": "stream",
     "text": [
      "MySQL Database Connection Successfull.\n",
      "Query Executed.\n"
     ]
    }
   ],
   "source": [
    "data_orders = \"\"\"\n",
    "insert into orders values\n",
    "(101,'Steve', 'HP Pavilion 1200', '2021-08-21',2,800,\"+923000000000\"),\n",
    "(102,'usama', 'DELL Carbon 100', '2021-07-21',1,300,\"+923000000000\"),\n",
    "(103,'Rashid', 'Lenovo Home 200', '2021-07-12',3,400,\"+923000000000\"),\n",
    "(104,'Tahir', 'ASUS Probook 1100', '2021-08-10',2,500,\"+923000000000\"),\n",
    "(105,'Raheel', 'MacBook Pro 2021', '2021-09-09',1,1200,\"+923000000000\"),\n",
    "(106,'Khizer', 'ChromeBook 2020', '2021-10-02',3,800,\"+923000000000\");\n",
    "\"\"\"\n",
    "\n",
    "connection = db_connection('localhost', user,pw,db)\n",
    "execute_query(connection, data_orders)"
   ]
  },
  {
   "cell_type": "markdown",
   "metadata": {},
   "source": [
    "### Fetching Data from Database and displying the Data"
   ]
  },
  {
   "cell_type": "code",
   "execution_count": 43,
   "metadata": {},
   "outputs": [],
   "source": [
    "#Function to execute the query and fetch the data\n",
    "\n",
    "def read_query(connection,query):\n",
    "    cursor=connection.cursor()\n",
    "    result=None\n",
    "    try:\n",
    "        cursor.execute(query)\n",
    "        result = cursor.fetchall()\n",
    "        return result\n",
    "    except Error as err:\n",
    "        print(f'Error: {err}')"
   ]
  },
  {
   "cell_type": "code",
   "execution_count": 44,
   "metadata": {},
   "outputs": [
    {
     "name": "stdout",
     "output_type": "stream",
     "text": [
      "MySQL Database Connection Successfull.\n",
      "(101, 'Steve', 'HP Pavilion 1200', datetime.date(2021, 8, 21), 2, 800.0, '+923000000000')\n",
      "(102, 'usama', 'DELL Carbon 100', datetime.date(2021, 7, 21), 1, 300.0, '+923000000000')\n",
      "(103, 'Rashid', 'Lenovo Home 200', datetime.date(2021, 7, 12), 3, 400.0, '+923000000000')\n",
      "(104, 'Tahir', 'ASUS Probook 1100', datetime.date(2021, 8, 10), 2, 500.0, '+923000000000')\n",
      "(105, 'Raheel', 'MacBook Pro 2021', datetime.date(2021, 9, 9), 1, 1200.0, '+923000000000')\n",
      "(106, 'Khizer', 'ChromeBook 2020', datetime.date(2021, 10, 2), 3, 800.0, '+923000000000')\n"
     ]
    }
   ],
   "source": [
    "#Reading all the Table\n",
    "read_data = \"\"\" SELECT * FROM orders;\"\"\"\n",
    "\n",
    "connection = db_connection('localhost', user,pw,db)\n",
    "results = read_query(connection,read_data)\n",
    "\n",
    "for result in results:\n",
    "    print(result)"
   ]
  },
  {
   "cell_type": "code",
   "execution_count": 45,
   "metadata": {},
   "outputs": [
    {
     "name": "stdout",
     "output_type": "stream",
     "text": [
      "MySQL Database Connection Successfull.\n",
      "('Steve', '+923000000000')\n",
      "('usama', '+923000000000')\n",
      "('Rashid', '+923000000000')\n",
      "('Tahir', '+923000000000')\n",
      "('Raheel', '+923000000000')\n",
      "('Khizer', '+923000000000')\n"
     ]
    }
   ],
   "source": [
    "#Fetching some specific data\n",
    "specific_data = \"SELECT customer_name, phone_number from orders;\"\n",
    "\n",
    "connection = db_connection('localhost', user,pw,db)\n",
    "results = read_query(connection,specific_data)\n",
    "\n",
    "for result in results:\n",
    "    print(result)"
   ]
  },
  {
   "cell_type": "code",
   "execution_count": 46,
   "metadata": {},
   "outputs": [
    {
     "name": "stdout",
     "output_type": "stream",
     "text": [
      "MySQL Database Connection Successfull.\n",
      "(2021,)\n",
      "(2021,)\n",
      "(2021,)\n",
      "(2021,)\n",
      "(2021,)\n",
      "(2021,)\n"
     ]
    }
   ],
   "source": [
    "#Fetching only date\n",
    "date_year = \"SELECT year(date_ordered) from orders;\"\n",
    "\n",
    "connection = db_connection('localhost', user,pw,db)\n",
    "results = read_query(connection,date_year)\n",
    "\n",
    "for result in results:\n",
    "    print(result)"
   ]
  },
  {
   "cell_type": "code",
   "execution_count": 47,
   "metadata": {},
   "outputs": [
    {
     "name": "stdout",
     "output_type": "stream",
     "text": [
      "MySQL Database Connection Successfull.\n",
      "(2021,)\n"
     ]
    }
   ],
   "source": [
    "#Fetching only distinct years\n",
    "distinct_year = \"SELECT distinct(year(date_ordered)) from orders;\"\n",
    "\n",
    "connection = db_connection('localhost', user,pw,db)\n",
    "results = read_query(connection,distinct_year)\n",
    "\n",
    "for result in results:\n",
    "    print(result)"
   ]
  },
  {
   "cell_type": "code",
   "execution_count": 48,
   "metadata": {},
   "outputs": [
    {
     "name": "stdout",
     "output_type": "stream",
     "text": [
      "MySQL Database Connection Successfull.\n",
      "(101, 'Steve', 'HP Pavilion 1200', datetime.date(2021, 8, 21), 2, 800.0, '+923000000000')\n",
      "(102, 'usama', 'DELL Carbon 100', datetime.date(2021, 7, 21), 1, 300.0, '+923000000000')\n",
      "(103, 'Rashid', 'Lenovo Home 200', datetime.date(2021, 7, 12), 3, 400.0, '+923000000000')\n",
      "(104, 'Tahir', 'ASUS Probook 1100', datetime.date(2021, 8, 10), 2, 500.0, '+923000000000')\n"
     ]
    }
   ],
   "source": [
    "#Query with where clause\n",
    "\n",
    "data_after = \"SELECT * from orders where date_ordered < '2021-09-01';\"\n",
    "\n",
    "connection = db_connection('localhost', user,pw,db)\n",
    "results = read_query(connection,data_after)\n",
    "\n",
    "for result in results:\n",
    "    print(result)"
   ]
  },
  {
   "cell_type": "code",
   "execution_count": 49,
   "metadata": {},
   "outputs": [
    {
     "name": "stdout",
     "output_type": "stream",
     "text": [
      "MySQL Database Connection Successfull.\n",
      "(102, 'usama', 'DELL Carbon 100', datetime.date(2021, 7, 21), 1, 300.0, '+923000000000')\n",
      "(103, 'Rashid', 'Lenovo Home 200', datetime.date(2021, 7, 12), 3, 400.0, '+923000000000')\n",
      "(104, 'Tahir', 'ASUS Probook 1100', datetime.date(2021, 8, 10), 2, 500.0, '+923000000000')\n",
      "(101, 'Steve', 'HP Pavilion 1200', datetime.date(2021, 8, 21), 2, 800.0, '+923000000000')\n",
      "(106, 'Khizer', 'ChromeBook 2020', datetime.date(2021, 10, 2), 3, 800.0, '+923000000000')\n",
      "(105, 'Raheel', 'MacBook Pro 2021', datetime.date(2021, 9, 9), 1, 1200.0, '+923000000000')\n"
     ]
    }
   ],
   "source": [
    "# where and sort/order\n",
    "\n",
    "order_unit_price=  \"SELECT * from orders order by unit_price;\"\n",
    "\n",
    "connection = db_connection('localhost', user,pw,db)\n",
    "results = read_query(connection,order_unit_price)\n",
    "\n",
    "for result in results:\n",
    "    print(result)"
   ]
  },
  {
   "cell_type": "code",
   "execution_count": 50,
   "metadata": {},
   "outputs": [
    {
     "name": "stdout",
     "output_type": "stream",
     "text": [
      "MySQL Database Connection Successfull.\n",
      "Query Executed.\n"
     ]
    }
   ],
   "source": [
    "update_rec= \"update orders set unit_price = 500 where order_id = 103\"\n",
    "\n",
    "connection = db_connection('localhost', user,pw,db)\n",
    "execute_query(connection, update_rec)"
   ]
  },
  {
   "cell_type": "code",
   "execution_count": 51,
   "metadata": {},
   "outputs": [
    {
     "name": "stdout",
     "output_type": "stream",
     "text": [
      "MySQL Database Connection Successfull.\n",
      "Query Executed.\n"
     ]
    }
   ],
   "source": [
    "# inserting a new row\n",
    "new_row = \"\"\"\n",
    "insert into orders values\n",
    "(107,'Obaid', 'MacBook Pro 2021', '2021-12-28',2,1200,\"+923000000000\");\n",
    "\"\"\"\n",
    "\n",
    "connection = db_connection('localhost', user,pw,db)\n",
    "execute_query(connection, new_row)"
   ]
  },
  {
   "cell_type": "markdown",
   "metadata": {},
   "source": [
    "### For the rest of the processing please check the file module_functions in the same directory"
   ]
  }
 ],
 "metadata": {
  "kernelspec": {
   "display_name": "Python 3",
   "language": "python",
   "name": "python3"
  },
  "language_info": {
   "codemirror_mode": {
    "name": "ipython",
    "version": 3
   },
   "file_extension": ".py",
   "mimetype": "text/x-python",
   "name": "python",
   "nbconvert_exporter": "python",
   "pygments_lexer": "ipython3",
   "version": "3.8.5"
  }
 },
 "nbformat": 4,
 "nbformat_minor": 4
}
