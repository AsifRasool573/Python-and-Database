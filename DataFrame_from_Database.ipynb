{
 "cells": [
  {
   "cell_type": "markdown",
   "metadata": {},
   "source": [
    "This file is related to running the module_function file and calling functions from module_function file here in this file and all things related to dataframes.\n",
    "### Setup"
   ]
  },
  {
   "cell_type": "code",
   "execution_count": 79,
   "metadata": {},
   "outputs": [],
   "source": [
    "#importing libraries\n",
    "import mysql.connector\n",
    "from mysql.connector import Error\n",
    "import pandas as pd\n",
    "import matplotlib.pyplot as plt"
   ]
  },
  {
   "cell_type": "markdown",
   "metadata": {},
   "source": [
    "### Fetching Data from Python_with_Database file"
   ]
  },
  {
   "cell_type": "code",
   "execution_count": 80,
   "metadata": {},
   "outputs": [],
   "source": [
    "%run ./module_functions.ipynb     #this magic function will run the fetching_data.ipynb file in the same directory"
   ]
  },
  {
   "cell_type": "code",
   "execution_count": 81,
   "metadata": {},
   "outputs": [
    {
     "name": "stdout",
     "output_type": "stream",
     "text": [
      "MySQL Database Connection Successfull.\n",
      "MySQL Database Connection Successfull.\n"
     ]
    }
   ],
   "source": [
    "#Getting the data\n",
    "data = fetch_data()                 # function call\n",
    "cols = fetch_col_names()           # function call\n"
   ]
  },
  {
   "cell_type": "code",
   "execution_count": 82,
   "metadata": {},
   "outputs": [
    {
     "data": {
      "text/html": [
       "<div>\n",
       "<style scoped>\n",
       "    .dataframe tbody tr th:only-of-type {\n",
       "        vertical-align: middle;\n",
       "    }\n",
       "\n",
       "    .dataframe tbody tr th {\n",
       "        vertical-align: top;\n",
       "    }\n",
       "\n",
       "    .dataframe thead th {\n",
       "        text-align: right;\n",
       "    }\n",
       "</style>\n",
       "<table border=\"1\" class=\"dataframe\">\n",
       "  <thead>\n",
       "    <tr style=\"text-align: right;\">\n",
       "      <th></th>\n",
       "      <th>order_id</th>\n",
       "      <th>customer_name</th>\n",
       "      <th>product_name</th>\n",
       "      <th>date_ordered</th>\n",
       "      <th>quantity</th>\n",
       "      <th>unit_price</th>\n",
       "      <th>phone_number</th>\n",
       "    </tr>\n",
       "  </thead>\n",
       "  <tbody>\n",
       "    <tr>\n",
       "      <th>0</th>\n",
       "      <td>101</td>\n",
       "      <td>Steve</td>\n",
       "      <td>HP Pavilion 1200</td>\n",
       "      <td>2021-08-21</td>\n",
       "      <td>2</td>\n",
       "      <td>800.0</td>\n",
       "      <td>+923000000000</td>\n",
       "    </tr>\n",
       "    <tr>\n",
       "      <th>1</th>\n",
       "      <td>102</td>\n",
       "      <td>usama</td>\n",
       "      <td>DELL Carbon 100</td>\n",
       "      <td>2021-07-21</td>\n",
       "      <td>1</td>\n",
       "      <td>300.0</td>\n",
       "      <td>+923000000000</td>\n",
       "    </tr>\n",
       "    <tr>\n",
       "      <th>2</th>\n",
       "      <td>103</td>\n",
       "      <td>Rashid</td>\n",
       "      <td>Lenovo Home 200</td>\n",
       "      <td>2021-07-12</td>\n",
       "      <td>3</td>\n",
       "      <td>500.0</td>\n",
       "      <td>+923000000000</td>\n",
       "    </tr>\n",
       "    <tr>\n",
       "      <th>3</th>\n",
       "      <td>104</td>\n",
       "      <td>Tahir</td>\n",
       "      <td>ASUS Probook 1100</td>\n",
       "      <td>2021-08-10</td>\n",
       "      <td>2</td>\n",
       "      <td>500.0</td>\n",
       "      <td>+923000000000</td>\n",
       "    </tr>\n",
       "    <tr>\n",
       "      <th>4</th>\n",
       "      <td>105</td>\n",
       "      <td>Raheel</td>\n",
       "      <td>MacBook Pro 2021</td>\n",
       "      <td>2021-09-09</td>\n",
       "      <td>1</td>\n",
       "      <td>1200.0</td>\n",
       "      <td>+923000000000</td>\n",
       "    </tr>\n",
       "    <tr>\n",
       "      <th>5</th>\n",
       "      <td>106</td>\n",
       "      <td>Khizer</td>\n",
       "      <td>ChromeBook 2020</td>\n",
       "      <td>2021-10-02</td>\n",
       "      <td>3</td>\n",
       "      <td>800.0</td>\n",
       "      <td>+923000000000</td>\n",
       "    </tr>\n",
       "    <tr>\n",
       "      <th>6</th>\n",
       "      <td>107</td>\n",
       "      <td>Obaid</td>\n",
       "      <td>MacBook Pro 2021</td>\n",
       "      <td>2021-12-28</td>\n",
       "      <td>2</td>\n",
       "      <td>1200.0</td>\n",
       "      <td>+923000000000</td>\n",
       "    </tr>\n",
       "  </tbody>\n",
       "</table>\n",
       "</div>"
      ],
      "text/plain": [
       "   order_id customer_name       product_name date_ordered  quantity  \\\n",
       "0       101         Steve   HP Pavilion 1200   2021-08-21         2   \n",
       "1       102         usama    DELL Carbon 100   2021-07-21         1   \n",
       "2       103        Rashid    Lenovo Home 200   2021-07-12         3   \n",
       "3       104         Tahir  ASUS Probook 1100   2021-08-10         2   \n",
       "4       105        Raheel   MacBook Pro 2021   2021-09-09         1   \n",
       "5       106        Khizer    ChromeBook 2020   2021-10-02         3   \n",
       "6       107         Obaid   MacBook Pro 2021   2021-12-28         2   \n",
       "\n",
       "   unit_price   phone_number  \n",
       "0       800.0  +923000000000  \n",
       "1       300.0  +923000000000  \n",
       "2       500.0  +923000000000  \n",
       "3       500.0  +923000000000  \n",
       "4      1200.0  +923000000000  \n",
       "5       800.0  +923000000000  \n",
       "6      1200.0  +923000000000  "
      ]
     },
     "execution_count": 82,
     "metadata": {},
     "output_type": "execute_result"
    }
   ],
   "source": [
    "db_df = pd.DataFrame(data, columns=cols)\n",
    "db_df"
   ]
  },
  {
   "cell_type": "code",
   "execution_count": 83,
   "metadata": {},
   "outputs": [
    {
     "data": {
      "text/html": [
       "<div>\n",
       "<style scoped>\n",
       "    .dataframe tbody tr th:only-of-type {\n",
       "        vertical-align: middle;\n",
       "    }\n",
       "\n",
       "    .dataframe tbody tr th {\n",
       "        vertical-align: top;\n",
       "    }\n",
       "\n",
       "    .dataframe thead th {\n",
       "        text-align: right;\n",
       "    }\n",
       "</style>\n",
       "<table border=\"1\" class=\"dataframe\">\n",
       "  <thead>\n",
       "    <tr style=\"text-align: right;\">\n",
       "      <th>customer_name</th>\n",
       "      <th>Khizer</th>\n",
       "      <th>Obaid</th>\n",
       "      <th>Raheel</th>\n",
       "      <th>Rashid</th>\n",
       "      <th>Steve</th>\n",
       "      <th>Tahir</th>\n",
       "      <th>usama</th>\n",
       "    </tr>\n",
       "  </thead>\n",
       "  <tbody>\n",
       "    <tr>\n",
       "      <th>unit_price</th>\n",
       "      <td>800.0</td>\n",
       "      <td>1200.0</td>\n",
       "      <td>1200.0</td>\n",
       "      <td>500.0</td>\n",
       "      <td>800.0</td>\n",
       "      <td>500.0</td>\n",
       "      <td>300.0</td>\n",
       "    </tr>\n",
       "  </tbody>\n",
       "</table>\n",
       "</div>"
      ],
      "text/plain": [
       "customer_name  Khizer   Obaid  Raheel  Rashid  Steve  Tahir  usama\n",
       "unit_price      800.0  1200.0  1200.0   500.0  800.0  500.0  300.0"
      ]
     },
     "execution_count": 83,
     "metadata": {},
     "output_type": "execute_result"
    }
   ],
   "source": [
    "pd.pivot_table(db_df, columns='customer_name', values=\"unit_price\")"
   ]
  },
  {
   "cell_type": "code",
   "execution_count": 84,
   "metadata": {},
   "outputs": [
    {
     "data": {
      "image/png": "[encoded data removed]",
      "text/plain": [
       "<Figure size 936x360 with 1 Axes>"
      ]
     },
     "metadata": {
      "needs_background": "light"
     },
     "output_type": "display_data"
    }
   ],
   "source": [
    "fig = plt.figure(figsize=(13,5))\n",
    "plt.bar(db_df[\"customer_name\"], db_df[\"unit_price\"])\n",
    "plt.show()"
   ]
  }
 ],
 "metadata": {
  "kernelspec": {
   "display_name": "Python 3",
   "language": "python",
   "name": "python3"
  },
  "language_info": {
   "codemirror_mode": {
    "name": "ipython",
    "version": 3
   },
   "file_extension": ".py",
   "mimetype": "text/x-python",
   "name": "python",
   "nbconvert_exporter": "python",
   "pygments_lexer": "ipython3",
   "version": "3.8.5"
  }
 },
 "nbformat": 4,
 "nbformat_minor": 4
}
